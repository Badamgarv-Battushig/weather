%matplotlib inline
# Import pandas, numpy, and matplotlib
import pandas as pd
import numpy as np
import matplotlib.pyplot as plt

# seaborn is a data visualization library built on matplotlib
import seaborn as sns

# set the plotting style
sns.set_style("whitegrid")
df_seattle = pd.read_csv('C:/Users/badam/OneDrive/Desktop/SU/Data 5100 Foundation of DS/Week1/weather/seattle_rain.csv' )
type (df_seattle)
df_stlouis = pd.read_csv('C:/Users/badam/OneDrive/Desktop/SU/Data 5100 Foundation of DS/Week1/weather/stl_rain.csv' )
type (df_stlouis)
df_seattle.head()
df_seattle.head(10)
df_stlouis.head()
df_seattle.columns
df_stlouis.columns
df_seattle.info()
df_stlouis.info()
print(df_stlouis.shape)
print(df_seattle.shape)
df_seattle.shape[0]
df_stlouis['STATION']
df_stlouis['STATION'].unique() #How many unique stations we have
df_stlouis['STATION'].nunique()
df_seattle['STATION'].nunique()
df_stlouis['DATE']
df_seattle['DATE']
# Data range supposed to be range between 2018 - 2022
df_seattle['DATE'].max() #last date
df_seattle['DATE'].tail() #Select the last n rows
#Missing data dates if gap put some timeframe "CHECK THIS ONE LATER"
df_seattle['DATE'] = pd.to_datetime(df_seattle['DATE'])
df_stlouis['DATE'] = pd.to_datetime(df_stlouis['DATE'])
df_seattle['DATE']
df_stlouis['DATE']
df_seattle['DATE'].min()
df_seattle['DATE'].max()
df_seattle['DATE'].agg(['min', 'max'])
df_stlouis['DATE'].agg(['min', 'max'])
plt.figure(figsize=(20, 5))

sns.lineplot(data=df_seattle, x='DATE', y='PRCP')

plt.xlabel('Date', fontsize=18)
plt.ylabel('Precipitation (inches)', fontsize=18)

plt.tick_params(labelsize=15)

plt.show()
df_seattle.head(20)
plt.figure(figsize=(20, 5))

sns.lineplot(data=df_stlouis, x='DATE', y='PRCP')

plt.xlabel('Date', fontsize=18)
plt.ylabel('Precipitation (inches)', fontsize=18)

plt.tick_params(labelsize=15)

plt.show()
df_stlouis.head(20)
plt.figure(figsize=(20, 5))

sns.lineplot(data=df_seattle, x='DATE', y='PRCP')

plt.xlabel('Date', fontsize=18)
plt.ylabel('Precipitation (inches)', fontsize=18)

plt.tick_params(labelsize=15)

plt.show()
plt.figure(figsize=(20, 5))
sns.lineplot(data=df_seattle, x='DATE', y='PRCP')
df_seattle.head()
df_seattle['PRCP']
#Use explicit array-style indexing with loc
df_seattle.loc[:, 'PRCP']
df_seattle.head()
df_seattle.iloc[:, 5]
df_seattle[['STATION', 'DATE', 'PRCP']]
df_seattle.loc[:, ['STATION', 'DATE', 'PRCP']]
df_seattle.iloc[:, [0, 2, 5]]
df_seattle.loc[:, 'STATION' : 'PRCP']
df_seattle.iloc[:3]
df_seattle.tail(3)
df_seattle.loc[len(df_seattle)-3:]
df_seattle.iloc[-3:]
df_seattle['PRCP'] > 0
# When applied to a boolean Series, the sum function counts all True values, effectively counting the number of days where precipitation was recorded.
sum(df_seattle['PRCP'] > 0)
# Uses this mask to filter the DataFrame, returning only the rows with precipitation values
df_seattle[df_seattle['PRCP'] > 0]
df_seattle[df_seattle['PRCP'].between(0.5, 0.75)]
df_seattle[(df_seattle['PRCP'] >= 0.5) & (df_seattle['PRCP'] <= 0.75)]
df_stlouis.head()
df_stlouis['DATE'] >= '2018-01-01'
#1. `df_stlouis.loc[...]` - Uses the `.loc` accessor to select rows based on a condition
#2. `df_stlouis['DATE'] >= '2018-01-01'` - Creates a boolean mask that is True for dates on or after January 1, 2018
#3. The result is assigned back to `df_stlouis`, effectively updating the DataFrame to only contain data from 2018 onwards
df_stlouis = df_stlouis.loc[df_stlouis['DATE'] >= '2018-01-01']
df_stlouis.head()
#The St. Louis data set has values for many weather stations, while the Seattle data set has only one weather station.
#We will focus on the data from the airport in St. Louis.
df_stlouis['NAME'] == 'ST LOUIS LAMBERT INTERNATIONAL AIRPORT, MO US'
df_stlouis = df_stlouis.loc[df_stlouis['NAME'] == 'ST LOUIS LAMBERT INTERNATIONAL AIRPORT, MO US']
#`.unique()` - This NumPy method returns an array of the unique values in that column, eliminating any duplicates
df_stlouis['STATION'].unique()
df_stlouis.info()
df_stlouis.head(2)
df_seattle.head(2)

df = df_stlouis[['DATE', 'PRCP']].merge(df_seattle[['DATE', 'PRCP']], on='DATE', how='outer')
df.head()
df.shape
df
#Create a tidy data frame with columns for city and precipitation

df = pd.melt(df, id_vars='DATE', var_name='city', value_name='precipitation')
df.head()
df.tail()
df.loc[df['city'] == 'PRCP_x', 'city'] = 'STL'
df.loc[df['city'] == 'PRCP_y', 'city'] = 'SEA'
df.head()
df.tail()
df = df.rename(columns={'DATE': 'date'})
df.head()
df.info()
df.notna().sum()
df.isna().sum()
df.loc[df['city'] == 'SEA', 'precipitation'].isna().sum()
df.loc[df['city'] == 'STL', 'precipitation'].isna().sum()
#We will replace missing values with the mean across years of values on that day.
#Design an algorithm for replacing missing values with the mean across years of values on that day.
df['day_of_year'] = pd.DatetimeIndex(df['date']).day_of_year
df.head(20)
mean_day_precipitation = df.loc[
    df['city'] == 'SEA',
    ['precipitation', 'day_of_year']
].groupby(
    'day_of_year'
).mean()
plt.figure(figsize=(20, 5))

sns.lineplot(data=mean_day_precipitation, x='day_of_year', y='precipitation')

plt.xlabel('Day of the year', fontsize=18)
plt.ylabel('Mean precipitation (inches)', fontsize=18)

plt.tick_params(labelsize=15)

plt.show()
indices = np.where(df['precipitation'].isna() == True)[0]
indices
for index in indices:
    df.loc[index, 'precipitation'] = mean_day_precipitation.loc[df.loc[index,'day_of_year']].values[0]
df.isna().sum()
df.to_csv('clean_seattle_stlouis_weather.csv', encoding='utf-8-sig', index=False)
